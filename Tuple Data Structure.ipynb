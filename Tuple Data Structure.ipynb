{
 "cells": [
  {
   "cell_type": "code",
   "execution_count": null,
   "id": "e078b3e7",
   "metadata": {},
   "outputs": [],
   "source": [
    "# tuple is sequence of characters or items\n",
    "# we can use index to get an element\n",
    "# slicing operation can be performed\n",
    "# tuple is immutable so we can't change exiisting object or tuple\n",
    "# We saw that lists and strings have many common properties, such as indexing and slicing operations.\n",
    "# They are two examples of sequence data types (see Sequence Types — list, tuple, range). "
   ]
  },
  {
   "cell_type": "code",
   "execution_count": 2,
   "id": "ead9a49e",
   "metadata": {},
   "outputs": [
    {
     "name": "stdout",
     "output_type": "stream",
     "text": [
      "(1, 2, 3, 4, 5, 6)\n",
      "1\n"
     ]
    }
   ],
   "source": [
    "tup = (1,2,3,4,5,6)             # indexing positve number\n",
    "print(tup)\n",
    "print(tup[0])\n"
   ]
  },
  {
   "cell_type": "code",
   "execution_count": 3,
   "id": "94360cef",
   "metadata": {},
   "outputs": [
    {
     "name": "stdout",
     "output_type": "stream",
     "text": [
      "7\n"
     ]
    }
   ],
   "source": [
    "tup = (1,2,3,4,5,6,(\"hello\",\"bollu\"))\n",
    "print(len(tup))                       # len method"
   ]
  },
  {
   "cell_type": "code",
   "execution_count": 6,
   "id": "0908b64e",
   "metadata": {
    "scrolled": true
   },
   "outputs": [
    {
     "name": "stdout",
     "output_type": "stream",
     "text": [
      "('hello', 'bollu')\n"
     ]
    }
   ],
   "source": [
    "tup = (1,2,3,4,5,6,(\"hello\",\"bollu\"))\n",
    "print(tup[6])"
   ]
  },
  {
   "cell_type": "code",
   "execution_count": 11,
   "id": "0fb48819",
   "metadata": {},
   "outputs": [
    {
     "name": "stdout",
     "output_type": "stream",
     "text": [
      "4\n"
     ]
    }
   ],
   "source": [
    "tup = (1,2,3,4,5,6,(\"hello\",\"bollu\"))   # indexing using negative number\n",
    "print(tup[-4])"
   ]
  },
  {
   "cell_type": "code",
   "execution_count": 16,
   "id": "c1c3ca69",
   "metadata": {
    "scrolled": false
   },
   "outputs": [
    {
     "name": "stdout",
     "output_type": "stream",
     "text": [
      "(1, 2, 3, 4, 5, 6, ('hello', 'bollu'), [10, 11, 12])\n"
     ]
    },
    {
     "ename": "TypeError",
     "evalue": "'tuple' object does not support item assignment",
     "output_type": "error",
     "traceback": [
      "\u001b[1;31m---------------------------------------------------------------------------\u001b[0m",
      "\u001b[1;31mTypeError\u001b[0m                                 Traceback (most recent call last)",
      "Cell \u001b[1;32mIn[16], line 3\u001b[0m\n\u001b[0;32m      1\u001b[0m tup \u001b[38;5;241m=\u001b[39m (\u001b[38;5;241m1\u001b[39m,\u001b[38;5;241m2\u001b[39m,\u001b[38;5;241m3\u001b[39m,\u001b[38;5;241m4\u001b[39m,\u001b[38;5;241m5\u001b[39m,\u001b[38;5;241m6\u001b[39m,(\u001b[38;5;124m\"\u001b[39m\u001b[38;5;124mhello\u001b[39m\u001b[38;5;124m\"\u001b[39m,\u001b[38;5;124m\"\u001b[39m\u001b[38;5;124mbollu\u001b[39m\u001b[38;5;124m\"\u001b[39m),[\u001b[38;5;241m10\u001b[39m,\u001b[38;5;241m11\u001b[39m,\u001b[38;5;241m12\u001b[39m])\n\u001b[0;32m      2\u001b[0m \u001b[38;5;28mprint\u001b[39m(tup)\n\u001b[1;32m----> 3\u001b[0m tup[\u001b[38;5;241m5\u001b[39m]\u001b[38;5;241m=\u001b[39m\u001b[38;5;124m\"\u001b[39m\u001b[38;5;124mhello\u001b[39m\u001b[38;5;124m\"\u001b[39m\n\u001b[0;32m      4\u001b[0m \u001b[38;5;28mprint\u001b[39m(tup)\n",
      "\u001b[1;31mTypeError\u001b[0m: 'tuple' object does not support item assignment"
     ]
    }
   ],
   "source": [
    "tup = (1,2,3,4,5,6,(\"hello\",\"bollu\"),[10,11,12])\n",
    "print(tup)\n",
    "tup[5]=\"hello\"                      # 'tuple' object does not support item assignment\n",
    "print(tup)"
   ]
  },
  {
   "cell_type": "code",
   "execution_count": 15,
   "id": "4b04fa26",
   "metadata": {},
   "outputs": [
    {
     "name": "stdout",
     "output_type": "stream",
     "text": [
      "(1, 2, 3, 4, 5, 6, ('hello', 'bollu'), [10, 11, 12])\n",
      "(1, 2, 3, 4, 5, 6, ('hello', 'bollu'), [10, 'hello', 12])\n"
     ]
    }
   ],
   "source": [
    "tup = (1,2,3,4,5,6,(\"hello\",\"bollu\"),[10,11,12])\n",
    "print(tup)\n",
    "tup[7][1]=\"hello\"                      # tuple supports item assignment when it contain list or mutable type data structure\n",
    "print(tup)                                    "
   ]
  },
  {
   "cell_type": "code",
   "execution_count": 17,
   "id": "9ec7fb7b",
   "metadata": {},
   "outputs": [
    {
     "name": "stdout",
     "output_type": "stream",
     "text": [
      "(1, 2, 3, 4, 5, 6, 7, 8, 9)\n"
     ]
    }
   ],
   "source": [
    "tup1 = (1,2,3,4,5)\n",
    "tup2 = (6,7,8,9)\n",
    "tup3 = tup1 + tup2            # concatenation\n",
    "print(tup3)"
   ]
  },
  {
   "cell_type": "code",
   "execution_count": 19,
   "id": "a88be9cb",
   "metadata": {},
   "outputs": [
    {
     "name": "stdout",
     "output_type": "stream",
     "text": [
      "(1, 2, 3, 4, 5, 7.5, 8.8)\n"
     ]
    }
   ],
   "source": [
    "tup1 = (1,2,3,4,5)\n",
    "tup2 = (7.5,8.8)\n",
    "tup3 = tup1 + tup2            # concatenation only eligible for int,and float not for string\n",
    "print(tup3)"
   ]
  },
  {
   "cell_type": "code",
   "execution_count": 21,
   "id": "bc1c15ea",
   "metadata": {},
   "outputs": [
    {
     "name": "stdout",
     "output_type": "stream",
     "text": [
      "(1, 2, 3, 4, 5)\n",
      "(1, 2, 3)\n"
     ]
    }
   ],
   "source": [
    "tup1 = (1,2,3,4,5)\n",
    "print(tup1[:])                   # slicing operation\n",
    "print(tup1[:-2])"
   ]
  },
  {
   "cell_type": "code",
   "execution_count": 23,
   "id": "369b246d",
   "metadata": {},
   "outputs": [
    {
     "ename": "NameError",
     "evalue": "name 'tup1' is not defined",
     "output_type": "error",
     "traceback": [
      "\u001b[1;31m---------------------------------------------------------------------------\u001b[0m",
      "\u001b[1;31mNameError\u001b[0m                                 Traceback (most recent call last)",
      "Cell \u001b[1;32mIn[23], line 3\u001b[0m\n\u001b[0;32m      1\u001b[0m tup1 \u001b[38;5;241m=\u001b[39m (\u001b[38;5;241m1\u001b[39m,\u001b[38;5;241m2\u001b[39m,\u001b[38;5;241m3\u001b[39m,\u001b[38;5;241m4\u001b[39m,\u001b[38;5;241m5\u001b[39m)\n\u001b[0;32m      2\u001b[0m \u001b[38;5;28;01mdel\u001b[39;00m tup1\n\u001b[1;32m----> 3\u001b[0m \u001b[38;5;28mprint\u001b[39m(tup1)\n",
      "\u001b[1;31mNameError\u001b[0m: name 'tup1' is not defined"
     ]
    }
   ],
   "source": [
    "tup1 = (1,2,3,4,5)\n",
    "del tup1           # del function deletes entire tuple so name 'tup1' is not defined\n",
    "print(tup1)"
   ]
  },
  {
   "cell_type": "code",
   "execution_count": 24,
   "id": "f69a87e7",
   "metadata": {},
   "outputs": [
    {
     "name": "stdout",
     "output_type": "stream",
     "text": [
      "3\n"
     ]
    }
   ],
   "source": [
    "tup1 = (1,2,3,4,5,1,1)\n",
    "print(tup1.count(1))     # count method gives repeated item in a tuple\n"
   ]
  },
  {
   "cell_type": "code",
   "execution_count": 25,
   "id": "2b7b38b9",
   "metadata": {},
   "outputs": [
    {
     "name": "stdout",
     "output_type": "stream",
     "text": [
      "4\n"
     ]
    }
   ],
   "source": [
    "tup1 = (1,2,3,4,5,1,1)\n",
    "print(tup1.index(5))        # index method gives index of an item in a tuple "
   ]
  },
  {
   "cell_type": "code",
   "execution_count": 29,
   "id": "44c3cc88",
   "metadata": {},
   "outputs": [
    {
     "name": "stdout",
     "output_type": "stream",
     "text": [
      "[1, 1, 1, 2, 3, 4, 5]\n"
     ]
    }
   ],
   "source": [
    "tup1 = (1,2,3,4,5,1,1)               # sorted\n",
    "tup2 = sorted(tup1)\n",
    "print(tup2)"
   ]
  },
  {
   "cell_type": "code",
   "execution_count": 30,
   "id": "d18967f6",
   "metadata": {},
   "outputs": [
    {
     "name": "stdout",
     "output_type": "stream",
     "text": [
      "5\n"
     ]
    }
   ],
   "source": [
    "tup1 = (1,2,3,4,5,1,1)  \n",
    "print(max(tup1))         # max method to get max element in a tuple"
   ]
  },
  {
   "cell_type": "code",
   "execution_count": 35,
   "id": "75ac32f8",
   "metadata": {},
   "outputs": [
    {
     "name": "stdout",
     "output_type": "stream",
     "text": [
      "abc\n",
      "1\n"
     ]
    }
   ],
   "source": [
    "tup1 =(\"hello\",\"abc\")  \n",
    "print(min(tup1))    \n",
    "tup1 = (1,2,4,5)\n",
    "print(min(tup1))      # min method to get min element in a tuple"
   ]
  },
  {
   "cell_type": "code",
   "execution_count": 32,
   "id": "69492350",
   "metadata": {},
   "outputs": [
    {
     "name": "stdout",
     "output_type": "stream",
     "text": [
      "17\n"
     ]
    }
   ],
   "source": [
    "tup1 = (1,2,3,4,5,1,1)  # sum method to get sum of an elements  in a tuple\n",
    "print(sum(tup1))"
   ]
  },
  {
   "cell_type": "code",
   "execution_count": null,
   "id": "482d3bdf",
   "metadata": {},
   "outputs": [],
   "source": []
  }
 ],
 "metadata": {
  "kernelspec": {
   "display_name": "Python 3 (ipykernel)",
   "language": "python",
   "name": "python3"
  },
  "language_info": {
   "codemirror_mode": {
    "name": "ipython",
    "version": 3
   },
   "file_extension": ".py",
   "mimetype": "text/x-python",
   "name": "python",
   "nbconvert_exporter": "python",
   "pygments_lexer": "ipython3",
   "version": "3.11.3"
  }
 },
 "nbformat": 4,
 "nbformat_minor": 5
}
